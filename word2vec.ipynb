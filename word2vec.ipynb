{
 "cells": [
  {
   "cell_type": "code",
   "execution_count": 1,
   "metadata": {},
   "outputs": [],
   "source": [
    "!pip install gensim"
   ]
  },
  {
   "cell_type": "code",
   "execution_count": 11,
   "metadata": {},
   "outputs": [],
   "source": [
    "#word2vec model represent each word as a 300 dimensional vector"
   ]
  },
  {
   "cell_type": "code",
   "execution_count": 13,
   "metadata": {},
   "outputs": [],
   "source": [
    "#gensim provides optimum implementation of word2vec"
   ]
  },
  {
   "cell_type": "code",
   "execution_count": 15,
   "metadata": {},
   "outputs": [],
   "source": [
    "#Question - find odd one out from the list of words"
   ]
  },
  {
   "cell_type": "code",
   "execution_count": null,
   "metadata": {},
   "outputs": [],
   "source": []
  },
  {
   "cell_type": "code",
   "execution_count": 2,
   "metadata": {},
   "outputs": [],
   "source": [
    "import gensim"
   ]
  },
  {
   "cell_type": "code",
   "execution_count": 3,
   "metadata": {},
   "outputs": [],
   "source": [
    "from gensim.models import word2vec\n",
    "from gensim.models import KeyedVectors\n",
    "from sklearn.metrics.pairwise import cosine_similarity"
   ]
  },
  {
   "cell_type": "code",
   "execution_count": 5,
   "metadata": {},
   "outputs": [],
   "source": [
    "word_vector= KeyedVectors.load_word2vec_format('GoogleNews-vectors-negative300.bin',binary=True)"
   ]
  },
  {
   "cell_type": "code",
   "execution_count": 20,
   "metadata": {},
   "outputs": [
    {
     "data": {
      "text/plain": [
       "(300,)"
      ]
     },
     "execution_count": 20,
     "metadata": {},
     "output_type": "execute_result"
    }
   ],
   "source": [
    "#300\n",
    "word_vector[\"Apple\"].shape"
   ]
  },
  {
   "cell_type": "code",
   "execution_count": 25,
   "metadata": {},
   "outputs": [],
   "source": [
    "v_apple=word_vector[\"Guava\"]\n",
    "v_mango=word_vector[\"Mango\"]"
   ]
  },
  {
   "cell_type": "code",
   "execution_count": 35,
   "metadata": {},
   "outputs": [],
   "source": [
    "#cosine similarity is according to angle between vectors\n",
    "import numpy as np"
   ]
  },
  {
   "cell_type": "code",
   "execution_count": 36,
   "metadata": {},
   "outputs": [
    {
     "data": {
      "text/plain": [
       "array([[0.43753767]], dtype=float32)"
      ]
     },
     "execution_count": 36,
     "metadata": {},
     "output_type": "execute_result"
    }
   ],
   "source": [
    "cosine_similarity([v_apple],[v_mango])"
   ]
  },
  {
   "cell_type": "code",
   "execution_count": 41,
   "metadata": {},
   "outputs": [],
   "source": [
    "def odd_one_out(words):\n",
    "    \"\"\"accepts a list of words and returns the odd word\"\"\"\n",
    "    # we will find cosine similarity of every word with the average and odd one out will be least similar one\n",
    "    \n",
    "    all_word_vectors= [word_vector[w] for w in words]\n",
    "    \n",
    "    avg_vector=np.mean(all_word_vectors,axis=0)\n",
    "   \n",
    "    \n",
    "    odd_one_out= None\n",
    "    min_similarity= 1.0\n",
    "    \n",
    "    \n",
    "    for w in words:\n",
    "        sim= cosine_similarity([word_vector[w]],[avg_vector])\n",
    "        if sim<min_similarity:\n",
    "            min_similarity= sim\n",
    "            odd_one_out= w\n",
    "    return odd_one_out\n",
    "    \n",
    "    \n",
    "     "
   ]
  },
  {
   "cell_type": "code",
   "execution_count": 42,
   "metadata": {},
   "outputs": [
    {
     "data": {
      "text/plain": [
       "'party'"
      ]
     },
     "execution_count": 42,
     "metadata": {},
     "output_type": "execute_result"
    }
   ],
   "source": [
    "odd_one_out(input_1)"
   ]
  },
  {
   "cell_type": "code",
   "execution_count": 31,
   "metadata": {},
   "outputs": [],
   "source": [
    "input_1= ['apple','mango','juice','party','orange']"
   ]
  },
  {
   "cell_type": "markdown",
   "metadata": {},
   "source": [
    "# Word analogies"
   ]
  },
  {
   "cell_type": "code",
   "execution_count": 45,
   "metadata": {},
   "outputs": [],
   "source": [
    "#if man is to woman then king is to what?\n",
    "# queen!\n",
    "# think of words as vectors and sinilarities as similar vector angles,lenghts etc.\n",
    "# you can apply vector operations to words.\n",
    "# man-woman= king-x ====> x= king-(man-woman)"
   ]
  },
  {
   "cell_type": "code",
   "execution_count": 46,
   "metadata": {},
   "outputs": [],
   "source": [
    "def predict_word(a,b,c,word_vectors):\n",
    "    \"\"\"Accepts a triad of words, a,b and c. returns d such that a:b what c:d\"\"\"\n",
    "    a,b,c= a.lower(),b.lower(),c.lower()\n",
    "    \n",
    "    # similarity= |b-a|= |c-d|\n",
    "    max_similarity=100\n",
    "    d= None\n",
    "    \n",
    "    words= word_vectors.vocab.keys()\n",
    "    \n",
    "    wa,wb,wc= word_vectors[a],word_vectors[b],word_vectors[c]\n",
    "    \n",
    "    # d is not known so we will iterate over every word in vocab and pick word which will maximise similarity\n",
    "    \n",
    "    for w in words:\n",
    "        if w in [a,b,c]:\n",
    "            continue\n",
    "        \n",
    "        wv= word_vector[w]\n",
    "        sim= cosine_similarity([wb-wa],[wv-wc])\n",
    "        \n",
    "        if sim>max_similarity:\n",
    "            max_similarity= sim\n",
    "            d=w\n",
    "        \n",
    "    return d\n",
    "    \n",
    "    \n",
    "    "
   ]
  },
  {
   "cell_type": "code",
   "execution_count": 48,
   "metadata": {},
   "outputs": [],
   "source": [
    "triad= (\"man\",\"woman\",\"prince\")\n",
    "predict_word(*triad, word_vector)"
   ]
  },
  {
   "cell_type": "code",
   "execution_count": null,
   "metadata": {},
   "outputs": [],
   "source": []
  }
 ],
 "metadata": {
  "kernelspec": {
   "display_name": "Python 3",
   "language": "python",
   "name": "python3"
  },
  "language_info": {
   "codemirror_mode": {
    "name": "ipython",
    "version": 3
   },
   "file_extension": ".py",
   "mimetype": "text/x-python",
   "name": "python",
   "nbconvert_exporter": "python",
   "pygments_lexer": "ipython3",
   "version": "3.7.6"
  }
 },
 "nbformat": 4,
 "nbformat_minor": 4
}
